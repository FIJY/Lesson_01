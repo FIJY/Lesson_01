{
  "nbformat": 4,
  "nbformat_minor": 0,
  "metadata": {
    "colab": {
      "provenance": [],
      "include_colab_link": true
    },
    "kernelspec": {
      "name": "python3",
      "display_name": "Python 3"
    },
    "language_info": {
      "name": "python"
    }
  },
  "cells": [
    {
      "cell_type": "markdown",
      "metadata": {
        "id": "view-in-github",
        "colab_type": "text"
      },
      "source": [
        "<a href=\"https://colab.research.google.com/github/FIJY/Lesson_01/blob/master/hh/%D0%9F%D0%B0%D1%80%D1%81%D0%B8%D0%BD%D0%B3_hh.ipynb\" target=\"_parent\"><img src=\"https://colab.research.google.com/assets/colab-badge.svg\" alt=\"Open In Colab\"/></a>"
      ]
    },
    {
      "cell_type": "markdown",
      "source": [
        "Парсинг с сайта hh <br>\n",
        "Ссылка на видео парсинга hh https://yandex.ru/video/preview/11468178118806870731"
      ],
      "metadata": {
        "id": "WGrBVg9vACoL"
      }
    },
    {
      "cell_type": "code",
      "execution_count": null,
      "metadata": {
        "colab": {
          "base_uri": "https://localhost:8080/"
        },
        "id": "JUiF1qq59ISY",
        "outputId": "26599739-818d-46bf-e748-357528bab9a0"
      },
      "outputs": [
        {
          "output_type": "stream",
          "name": "stdout",
          "text": [
            "Requirement already satisfied: requests in /usr/local/lib/python3.10/dist-packages (2.31.0)\n",
            "Requirement already satisfied: charset-normalizer<4,>=2 in /usr/local/lib/python3.10/dist-packages (from requests) (3.3.2)\n",
            "Requirement already satisfied: idna<4,>=2.5 in /usr/local/lib/python3.10/dist-packages (from requests) (3.7)\n",
            "Requirement already satisfied: urllib3<3,>=1.21.1 in /usr/local/lib/python3.10/dist-packages (from requests) (2.0.7)\n",
            "Requirement already satisfied: certifi>=2017.4.17 in /usr/local/lib/python3.10/dist-packages (from requests) (2024.2.2)\n",
            "Collecting bs4\n",
            "  Downloading bs4-0.0.2-py2.py3-none-any.whl (1.2 kB)\n",
            "Requirement already satisfied: beautifulsoup4 in /usr/local/lib/python3.10/dist-packages (from bs4) (4.12.3)\n",
            "Requirement already satisfied: soupsieve>1.2 in /usr/local/lib/python3.10/dist-packages (from beautifulsoup4->bs4) (2.5)\n",
            "Installing collected packages: bs4\n",
            "Successfully installed bs4-0.0.2\n",
            "Requirement already satisfied: lxml in /usr/local/lib/python3.10/dist-packages (4.9.4)\n",
            "Collecting fake_useragent\n",
            "  Downloading fake_useragent-1.5.1-py3-none-any.whl (17 kB)\n",
            "Installing collected packages: fake_useragent\n",
            "Successfully installed fake_useragent-1.5.1\n"
          ]
        }
      ],
      "source": [
        "# Устанавливаем библиотеки\n",
        "# requests для отправки запросов\n",
        "# BeautifulSoup для разбора полученных данных\n",
        "# lxml для парсинга\n",
        "# fake_useragent для создания заголовков\n",
        "!pip install requests\n",
        "!pip install bs4\n",
        "!pip install lxml\n",
        "!pip install fake_useragent"
      ]
    },
    {
      "cell_type": "code",
      "source": [
        "# Импортируем библиотеки\n",
        "import requests\n",
        "from bs4 import BeautifulSoup\n",
        "import fake_useragent\n",
        "import time\n",
        "import json"
      ],
      "metadata": {
        "id": "_wajGQRbAL4g"
      },
      "execution_count": null,
      "outputs": []
    },
    {
      "cell_type": "code",
      "source": [
        "import pandas as pd"
      ],
      "metadata": {
        "id": "BPOUOC0oEBK1"
      },
      "execution_count": null,
      "outputs": []
    },
    {
      "cell_type": "code",
      "source": [
        "import re"
      ],
      "metadata": {
        "id": "ALWwsnEqNVCx"
      },
      "execution_count": null,
      "outputs": []
    },
    {
      "cell_type": "code",
      "source": [
        "# Заходим на hh, выбираем регион (Россия)\n",
        "# Вводим запрос в поле поиска (например python) в разделе Соискателям\n",
        "# Переходим на вкладку резюме\n",
        "# Переходим на вторую страницу, чтобы появился параметр page\n",
        "# Копируем адрес страницы"
      ],
      "metadata": {
        "id": "UcW6icUmBEsw"
      },
      "execution_count": null,
      "outputs": []
    },
    {
      "cell_type": "code",
      "source": [
        "# Функция для получения ссылок по запросу\n",
        "def get_links(text):\n",
        "  ua = fake_useragent.UserAgent() #Создаем объект для передачи заголовка\n",
        "  # Пишем запрос и передаем туда скопированный адрес страницы hh\n",
        "  # В скопированном адресе находим текст нашего запроса (python) и заменяем его на параметр функции (text)\n",
        "\n",
        "  data = requests.get(\n",
        "      url=f\"https://hh.ru/search/resume?text={text}&area=1&isDefaultArea=true&exp_period=all_time&logic=normal&pos=full_text&page=1\",\n",
        "      headers = {\"user-agent\":ua.random})\n",
        "\n",
        "  # Если произошла ошибка, выходим из функции\n",
        "  if data.status_code != 200:\n",
        "    return\n",
        "\n",
        "  # В переменную soup передаем содержание полученной страницы\n",
        "  soup = BeautifulSoup(data.content, \"lxml\")\n",
        "  # Найдем количество страниц\n",
        "  # Внизу открытой страницы hh находим количество страниц 250; нажимаем правой кнопкой мыши и далее \"Проверить\"\n",
        "  # В открывшемся справа окне, вверху нажимаем кнопку проверить и выбираем количество страниц (250)\n",
        "  # Находим div class = \"pager\", и вводим его в attrs\n",
        "  # Далее надо найти все \"span\" и взять последний, т.к. там указано 250\n",
        "  # Далее у последнего span надо получить ссылку \"a\"\n",
        "  # В ссылке надо взять \"span\", и в \"span\" взять текст\n",
        "  # Полученное значение переводим в int\n",
        "  try:\n",
        "    page_count = int(soup.find(\"div\", attrs={\"class\":\"pager\"}).find_all(\"span\",recursive=False)[-1].find(\"a\").find(\"span\").text)\n",
        "  except:\n",
        "    return\n",
        "\n",
        "  for page in range(page_count):\n",
        "    try:\n",
        "      # Создаем заголовок и передаем туда случайный заголовок из созданного объекта\n",
        "      # В запрос передаем страницу\n",
        "      data = requests.get(\n",
        "        url=f\"https://hh.ru/search/resume?text={text}&area=1&isDefaultArea=true&exp_period=all_time&logic=normal&pos=full_text&page={page}\",\n",
        "        headers = {\"user-agent\":ua.random}\n",
        "      )\n",
        "\n",
        "      if data.status_code != 200:\n",
        "        continue\n",
        "      soup = BeautifulSoup(data.content, \"lxml\")\n",
        "      # Выбираем на hh любое резюме, нам нужна ссылка \"a\", у нее нужен атрибут \"data-qa\"; этот атрибут вставляем в soup\n",
        "      # Проходим по всем ссылкам\n",
        "      for a in soup.find_all(\"a\", attrs={\"data-qa\":\"serp-item__title\"}):\n",
        "        # в каждой ссылке \"a\" нам нужен адрес сайта в \"attrs\"\n",
        "        # в адресе сайта нужно всё до знака \"?\", поэтому разбиваем ссылку по знаку \"?\" и берем первый элемент\n",
        "        yield f\"https://hh.ru{a.attrs['href'].split('?')[0]}\"\n",
        "    except Exception as e:\n",
        "      print(f\"{e}\")\n",
        "    time.sleep(1)"
      ],
      "metadata": {
        "id": "r2yMwz-6Ao9n"
      },
      "execution_count": null,
      "outputs": []
    },
    {
      "cell_type": "code",
      "source": [
        "# Полученные ссылки соберем в список link_resume\n",
        "link_resume = [a for a in get_links(\"python\")]"
      ],
      "metadata": {
        "id": "_ncdg_aEgGHs"
      },
      "execution_count": null,
      "outputs": []
    },
    {
      "cell_type": "code",
      "source": [
        "len (link_resume)"
      ],
      "metadata": {
        "colab": {
          "base_uri": "https://localhost:8080/"
        },
        "id": "hglOeEVApVbU",
        "outputId": "0837fb1c-b0cd-4eac-84db-6243027ccda0"
      },
      "execution_count": null,
      "outputs": [
        {
          "output_type": "execute_result",
          "data": {
            "text/plain": [
              "4999"
            ]
          },
          "metadata": {},
          "execution_count": 33
        }
      ]
    },
    {
      "cell_type": "code",
      "source": [
        "# Запишем полученные ссылки в файл\n",
        "with open ('link_resume.txt', 'w') as file:\n",
        "  for resume in link_resume:\n",
        "    file.write(f\"{resume} \")"
      ],
      "metadata": {
        "id": "eaTtTSZisqC6"
      },
      "execution_count": null,
      "outputs": []
    },
    {
      "cell_type": "code",
      "source": [
        "# Переходим по любой ссылке в резюме, с указанной зарплатой\n",
        "# Смотрим код и копируем class заголовка (для этого нажмем \"проверить\" и выделим заголовок, т.е. название позиции, например Python developer)\n",
        "# Аналогично скопируем class зарплаты\n",
        "# Также ищем class ключевых навыков"
      ],
      "metadata": {
        "id": "wOqBlpHGw4cN"
      },
      "execution_count": null,
      "outputs": []
    },
    {
      "cell_type": "code",
      "source": [
        "# Функция для получения данных резюме\n",
        "def get_resume(link):\n",
        "  ua = fake_useragent.UserAgent() # Создадим юзер-агента\n",
        "  # Делаем запрос к переданной ссылке\n",
        "  data = requests.get(\n",
        "      url = link,\n",
        "      headers={\"user-agent\":ua.random}\n",
        "  )\n",
        "  if data.status_code != 200:\n",
        "    return\n",
        "\n",
        "  soup = BeautifulSoup(data.content, \"lxml\")\n",
        "\n",
        "  # Спарсим данные о соискателе\n",
        "  reperson = re.compile(r'resume-personal.*') # Регулярное выражение для поиска всех атрибутов, содержащих \"resume-personal\"\n",
        "  try:\n",
        "    persons = [person.text.replace(\"\\xa0\", \" \") for person in soup.find_all(attrs={\"data-qa\":reperson})]\n",
        "  except:\n",
        "    persons = \"\"\n",
        "\n",
        "  # Спарсим готовность к переезду, командировкам\n",
        "  try:\n",
        "    moving = soup.find(attrs={\"class\":\"bloko-translate-guard\"}).text.replace(\"\\xa0\", \" \")\n",
        "  except:\n",
        "    moving = \"\"\n",
        "\n",
        "  # Спарсим название позиции\n",
        "  try:\n",
        "    name = soup.find(attrs={\"class\":\"resume-block__title-text\"}).text\n",
        "  except:\n",
        "    name = \"\"\n",
        "\n",
        "  # Спарсим зарплату и уберем лишние символы (\\u2009, \\xa0), которые увидели в \"сыром\" виде (см. код ниже)\n",
        "  try:\n",
        "    salary = soup.find(attrs={\"class\":\"resume-block__salary\"}).text.replace(\"\\u2009\",\"\").replace(\"\\xa0\", \" \")\n",
        "  except:\n",
        "    salary = \"\"\n",
        "\n",
        "  # Спарсим специализации и график работы; добавив пробелы перед заглавными буквами и затем удалив лишние пробелы (в начале)\n",
        "  try:\n",
        "    specialization_schedule = re.sub(r'([А-ЯA-Z])', r' \\1', soup.find(attrs={\"class\":\"resume-block-container\"}).text).strip()\n",
        "  except:\n",
        "    specialization_schedule = \"\"\n",
        "\n",
        "  # Спарсим опыт работы\n",
        "  try:\n",
        "    experience = soup.find(attrs={\"data-qa\":\"resume-block-experience\"}).text.replace(\"\\xa0\", \" \")\n",
        "  except:\n",
        "    experience = \"\"\n",
        "\n",
        "  # Находим атрибут, где находятся все ключевые навыки (data-qa = \"skills-table); далее находим class для каждого отдельного навыка, оставляем class с text\n",
        "  try:\n",
        "    tags = [tag.text for tag in soup.find(attrs={\"data-qa\":\"skills-table\"}).find_all(attrs={\"class\":\"bloko-tag__section_text\"})]\n",
        "  except:\n",
        "    tags = []\n",
        "\n",
        "\n",
        "  resume = {\n",
        "      \"persons\":persons,\n",
        "      \"moving\":moving,\n",
        "      \"name\":name,\n",
        "      \"salary\":salary,\n",
        "      \"specialization_schedule\":specialization_schedule,\n",
        "      \"experience\":experience,\n",
        "      \"tags\":tags\n",
        "  }\n",
        "  return resume"
      ],
      "metadata": {
        "id": "ijbkVNPxA4c5"
      },
      "execution_count": null,
      "outputs": []
    },
    {
      "cell_type": "code",
      "source": [
        "# Здесь в зарплате видны лишние символы (\\u2009, \\xa0), скопируем их и вставим в созданную выше функцию, чтобы их убрать\n",
        "for a in link_resume[:10]:\n",
        "  print(get_resume(a))\n",
        "  time.sleep(1)"
      ],
      "metadata": {
        "colab": {
          "base_uri": "https://localhost:8080/"
        },
        "id": "SThLJfEgzuKT",
        "outputId": "5a4bcf2d-ad20-42fe-c375-13a5bc3a2830"
      },
      "execution_count": null,
      "outputs": [
        {
          "output_type": "stream",
          "name": "stdout",
          "text": [
            "{'name': 'Программист Python', 'salary': ''}\n",
            "{'name': 'Python разработчик', 'salary': ''}\n",
            "{'name': 'Python developer', 'salary': '270\\u2009000\\xa0₽ на\\xa0руки'}\n",
            "{'name': 'Python разработчик', 'salary': ''}\n",
            "{'name': 'Программист Python', 'salary': ''}\n",
            "{'name': 'Python-разработчик', 'salary': ''}\n",
            "{'name': 'Python-разработчик', 'salary': '80\\u2009000\\xa0₽ на\\xa0руки'}\n",
            "{'name': 'Python-разработчик/ Python developer', 'salary': ''}\n",
            "{'name': 'Python Backend Developer', 'salary': ''}\n",
            "{'name': 'Python developer', 'salary': ''}\n"
          ]
        }
      ]
    },
    {
      "cell_type": "code",
      "source": [
        "# Вот, что получилось, когда убрали лишние символы в зарплате\n",
        "for a in link_resume[:10]:\n",
        "  print(get_resume(a))\n",
        "  time.sleep(1)"
      ],
      "metadata": {
        "colab": {
          "base_uri": "https://localhost:8080/"
        },
        "id": "NaU2l-0n5kpv",
        "outputId": "f00b083d-92ce-43cc-e3dc-afeb47fa99b2"
      },
      "execution_count": null,
      "outputs": [
        {
          "output_type": "stream",
          "name": "stdout",
          "text": [
            "{'name': 'Программист Python', 'salary': ''}\n",
            "{'name': 'Python разработчик', 'salary': ''}\n",
            "{'name': 'Python developer', 'salary': '270000 ₽ на руки'}\n",
            "{'name': 'Python разработчик', 'salary': ''}\n",
            "{'name': 'Программист Python', 'salary': ''}\n",
            "{'name': 'Python-разработчик', 'salary': ''}\n",
            "{'name': 'Python-разработчик', 'salary': '80000 ₽ на руки'}\n",
            "{'name': 'Python-разработчик/ Python developer', 'salary': ''}\n",
            "{'name': 'Python Backend Developer', 'salary': ''}\n",
            "{'name': 'Python developer', 'salary': ''}\n"
          ]
        }
      ]
    },
    {
      "cell_type": "code",
      "source": [
        "# Добавили навыки\n",
        "for a in link_resume[:10]:\n",
        "  print(get_resume(a))\n",
        "  time.sleep(1)"
      ],
      "metadata": {
        "colab": {
          "base_uri": "https://localhost:8080/"
        },
        "id": "2xpqSDGe9T2A",
        "outputId": "480a9ed2-2935-4771-b146-ffe0da110113"
      },
      "execution_count": null,
      "outputs": [
        {
          "output_type": "stream",
          "name": "stdout",
          "text": [
            "{'name': 'Программист Python', 'salary': '', 'tags': ['JavaScript', 'Python', 'Linux', 'HTML5', 'SQL', 'CSS3', 'Git', 'SQLite', 'Django Framework', 'jQuery', 'PostgreSQL', 'Debian']}\n",
            "{'name': 'Python разработчик', 'salary': '', 'tags': ['Python', 'Django REST Framework', 'Django Framework', 'PostgreSQL', 'MySQL', 'SQLite', 'Unit Testing', 'Git', 'GitHub', 'API', 'Telegram API', 'Linux', 'Ubuntu Server', 'Nginx', 'Docker', 'Gunicorn', 'Postfix', 'Postman', 'PyCharm', 'Visual Studio Code', 'Navicat']}\n",
            "{'name': 'Python developer', 'salary': '270000 ₽ на руки', 'tags': ['Ответственность', 'Исполнительность', 'JavaScript', 'Node.js', 'Python', 'react.js', 'Git', 'CSS', 'Django Framework', 'SQL', 'vue.js', 'Flask', 'PostgreSQL']}\n",
            "{'name': 'Python разработчик', 'salary': '', 'tags': [' SQL', 'Docker', 'Flask', 'MySQL', 'PostgreSQL', 'FastAPI', 'ООП', 'REST API', 'Django Rest Framework', 'Django Framework', 'Паттерны проектирования', 'Redis', 'Celery', ' Python', ' Git', 'RabbitMQ', 'SOLID']}\n",
            "{'name': 'Программист Python', 'salary': '', 'tags': ['C/C++', 'Pandas', 'MS SQL Server', ' Python', 'Flask', 'SQL', 'Git', 'Linux', 'PostgreSQL', 'FastAPI', 'aiohttp', 'ORM', 'Docker', 'Celery', 'Docker-compose', 'Redis', 'RabbitMQ', 'ClickHouse', 'Gitlab']}\n",
            "{'name': 'Python-разработчик', 'salary': '', 'tags': ['Python', 'ООП', 'Git', 'PostgreSQL', 'SQL', 'Django Framework', 'Django', 'HTML', 'CSS', 'Bootstrap', 'Stripe', 'Docker', 'Jupiter', 'SQLite', 'Умение работать в команде', 'Паттерны проектирования', 'Английский язык', 'Умение разбираться в чужом коде', 'Linux', 'Базы данных']}\n",
            "{'name': 'Python-разработчик', 'salary': '80000 ₽ на руки', 'tags': []}\n",
            "{'name': 'Python-разработчик/ Python developer', 'salary': '', 'tags': ['Исполнительность', 'Поиск информации в интернет', 'Пользователь ПК', 'Грамотная речь', 'Деловая переписка', 'Работа с большим объемом информации', 'Internet', 'MS PowerPoint', 'Английский язык', 'Телефонные переговоры', 'Грамотность', 'Электронная почта']}\n",
            "{'name': 'Python Backend Developer', 'salary': '', 'tags': ['Python', 'Linux', 'PostgreSQL', 'Docker', 'Git', 'Django', 'Django Framework', 'Redis']}\n",
            "{'name': 'Python developer', 'salary': '', 'tags': ['Git', 'Python', 'ООП', 'Django Framework', 'HTML5', 'CSS3', 'JavaScript', 'Django REST framework', 'Falcon', 'Redis', 'SQL', 'Selenium', 'Celery', 'Docker', 'Flask']}\n"
          ]
        }
      ]
    },
    {
      "cell_type": "code",
      "source": [
        "for a in link_resume[:10]:\n",
        "  print(get_resume(a))\n",
        "  time.sleep(1)"
      ],
      "metadata": {
        "colab": {
          "base_uri": "https://localhost:8080/"
        },
        "id": "OwbMMfMoJjxA",
        "outputId": "256c5d5f-9414-43cc-844b-2bdaab90efd2"
      },
      "execution_count": null,
      "outputs": [
        {
          "output_type": "stream",
          "name": "stdout",
          "text": [
            "{'persons': ['Мужчина', '47 лет', '18 мая 1976', 'Ногинск'], 'moving': 'Ногинск, готов к переезду (Москва, Россия), не готов к командировкам', 'name': 'Программист Python', 'salary': '', 'specialization_schedule': 'Специализации: Программист, разработчик Занятость: полная занятость, частичная занятость, проектная работа, стажировка График работы: полный день, гибкий график, удаленная работа', 'experience': 'Опыт работы 8 лет 6 месяцев Ноябрь 2015 — по настоящее время8 лет 6 месяцевИндивидуальное предпринимательство / частная практика / фрилансПрограммист PythonПрактическое применение знаний и навыков программирования в области web, а также изучение новых технологий в сфере программирования (всё, что связано с python в основном).', 'tags': ['JavaScript', 'Python', 'Linux', 'HTML5', 'SQL', 'CSS3', 'Git', 'SQLite', 'Django Framework', 'jQuery', 'PostgreSQL', 'Debian']}\n",
            "{'persons': ['Мужчина', '37 лет', '12 марта 1987', 'Санкт-Петербург'], 'moving': 'Санкт-Петербург, готов к переезду (Москва), готов к командировкам', 'name': 'Python разработчик', 'salary': '', 'specialization_schedule': 'Специализации: Программист, разработчик Занятость: полная занятость, частичная занятость, проектная работа, стажировка График работы: полный день, гибкий график, удаленная работа', 'experience': 'Опыт работы 12 лет 8 месяцев Декабрь 2022 — по настоящее время1 год 5 месяцевПроектная деятельностьСанкт-Петербург, github.com/bikovshaninИнформационные технологии, системная интеграция, интернет... Показать ещеPython-разработчикРаботаю с Python и его библиотеками, а также с фреймворками Django и DRF. Работал с СУБД (SQlite, MySQL, PostgreSQL) и API (Telegram, ЯП и прочее). Владею навыками работы с Docker, Git, NGINX, SQLAlchemy.\\nС проектами, представленными ниже, можно ознакомиться на GitHub:\\nhttps://github.com/bikovshanin\\n\\nДля небольшой компании, специализирующейся в области криптовалютных технологий, разработал несколько программных решений:\\n1. Создал скрипт для загрузки истории курса криптовалют в базу данных. Скрипт периодически скачивает, обрабатывает и сохраняет последние значения курсов криптовалют.\\nСтек: Python, SQLAlchemy, Pandas, PostgreSQL, BinanceAPI\\n\\n2. Реализовал телеграм-бота для подтверждения электронной почты. Бот отправляет проверочный код на указанную почту и подтверждает ее валидность при вводе кода.\\nСтек: Python, aiogram, jinja2, PostgreSQL\\n\\n3. Разработал телеграм-бота-ассистента для взаимодействия с пользователями онлайн-магазина. Функционал включает перенаправление сообщений от пользователей админу, блокировку пользователей, общение админа с пользователями через бота и предоставление информации о продуктах магазина.\\nСтек: Python, aiogram, PostgreSQL\\n\\nДругие проекты:\\n1. С помощью Django REST Framework (DRF) создал бэкенд платформы для обмена рецептами с функционалом публикаций, избранных рецептов, подписок. Так же реализована возможность получения списка ингредиентов в формате TXT.\\nСтек: Python, Django REST framework\\n\\n2. В команде реализовали REST API (DRF) для сервиса учета рейтинга объектов. Отвечал за разработку кастомной авторизации и аутентификации пользователей.\\nИсполнял роль тимлида: координировал действия команды, декомпозировал задачи.\\nСтек: Python, Django REST framework \\n\\n3. На фреймворке Django разработал блог для размещения постов с изображениями и текстом. Реализовал систему комментариев, обеспечивающую взаимодействие пользователей. Внедрил функционал регистрации и авторизации, а также возможность восстановления пароля через электронную почту. \\nСтек: Python, DjangoСентябрь 2011 — Декабрь 202211 лет 4 месяцаSakhalin Energy Investment Company Ltd.Сахалинская область, www.sakhalinenergy.ruНефть и газ... Показать ещеСпециалист по подготовке работ КИПиАПодготовка работ по обслуживанию и ремонту потоковых анализаторов, узлов учёта нефти и газа, другого оборудования КИПиА. Оценка и планирование объёма предстоящих работ, поиск документации и материалов необходимых для её выполнения. Подготовка нарядов-допусков, ведение документации в системе SAP. Участие в плановых остановах. Руководство небольшой командой.', 'tags': ['Python', 'Django REST Framework', 'Django Framework', 'PostgreSQL', 'MySQL', 'SQLite', 'Unit Testing', 'Git', 'GitHub', 'API', 'Telegram API', 'Linux', 'Ubuntu Server', 'Nginx', 'Docker', 'Gunicorn', 'Postfix', 'Postman', 'PyCharm', 'Visual Studio Code', 'Navicat']}\n",
            "{'persons': ['Мужчина', '25 лет', '19 октября 1998', 'Москва'], 'moving': 'Москва, готов к переезду, готов к командировкам', 'name': 'Python developer', 'salary': '270000 ₽ на руки', 'specialization_schedule': '270\\u2009000\\xa0₽ на\\xa0руки', 'experience': 'Опыт работы 8 лет 2 месяца Июнь 2020 — по настоящее время3 года 11 месяцевOZON.ru, Интернет-магазинМосква, www.ozon.ruУслуги для населения... Показать ещеПрограммист PythonРазработка высоконагруженных сервисов на python, разработка на react.js\\n\\nПринимал участие в разработке архитектуры для разных проектов.\\nОптимизировал разворачивание и скорость доставки продуктов.\\nВыстраивал пайплайны обработки больших массивов данных как в AWS так и в собственной архитектуре.Июнь 2018 — Май 20202 годаТинькофф БанкМосква, www.tinkoff.ruИнформационные технологии, системная интеграция, интернет... Показать ещеПрограммист PythonЗанимался разработкой сервисов на python(django/aiohttp), js(vue.js)\\nПомог выстроить систему тестирования голосовых помошников, что позволило сократить время тестирования более чем в 5 раз\\nЗанимался разработкой системы слежения за серверами которая позволила своевременно заменять диски и другое выходящее из строя оборудование, количество инцидентов снизилось более чем в 10 раз.Март 2016 — Май 20182 года 3 месяцаDeltaSolutionsМосква, www.deltasolutions.ru/Программист PythonРазработка программного обеспечения на языке python с использованием стека hadoop.\\n\\nРазработал набор пайплайнов для быстрого раворачивания и доставки продуктов клиенту с помощью Terraform, gitlab CI/CD, что позволило значительно сократить время деплоев.\\nРеализовал множество продуктов для небольших и крупных закзачиков.', 'tags': ['Ответственность', 'Исполнительность', 'JavaScript', 'Node.js', 'Python', 'react.js', 'Git', 'CSS', 'Django Framework', 'SQL', 'vue.js', 'Flask', 'PostgreSQL']}\n",
            "{'persons': ['Мужчина', '24 года', '4 июня 1999', 'Москва'], 'moving': 'Москва, не готов к переезду, готов к редким командировкам', 'name': 'Python разработчик', 'salary': '', 'specialization_schedule': 'Специализации: Программист, разработчик Занятость: полная занятость, проектная работа График работы: полный день, гибкий график, удаленная работа', 'experience': 'Опыт работы 2 года 6 месяцев Ноябрь 2023 — по настоящее время6 месяцевEqvantaLabMiddle Python developerPython 3.11, Celery, Docker, RabbitMQ, PostgreSQLНоябрь 2021 — Ноябрь 20232 года 1 месяцSportCorePython backend разработчикРазработка в сфере e-commerce.\\n\\nСтек: Python, Flask, MySQL, Celery, Redis, RabbitMQ.\\n\\n• Монолит на Flask - интеграция системы складского учёта и маркетплейсов;\\n• Разработка, оптимизация ELT/ETL процессов;\\n• Проектирование БД;\\n• Разработка модулей для работы с API маркетплейсов, системы складского учёта;\\n• Инструменты для визуализации логов, ABC-анализа продаж.Ноябрь 2021 — Январь 20223 месяцаYLAB DevelopmentИнформационные технологии, системная интеграция, интернет... Показать ещеJunior+ python backend разработчикКоманда разработки бэкенда сервиса для оценки грейдов соискателей.\\n\\nСтек: Django, REST Framework, PostgreSQL, Docker.\\n\\n• Проектирование, разработка, документирование API;\\n• Упаковка в Docker;\\n• Интеграция сторонних API;', 'tags': [' SQL', 'Docker', 'Flask', 'MySQL', 'PostgreSQL', 'FastAPI', 'ООП', 'REST API', 'Django Rest Framework', 'Django Framework', 'Паттерны проектирования', 'Redis', 'Celery', ' Python', ' Git', 'RabbitMQ', 'SOLID']}\n",
            "{'persons': ['Мужчина', '23 года', '13 мая 2000', 'Москва'], 'moving': 'Москва, готов к переезду, готов к командировкам', 'name': 'Программист Python', 'salary': '', 'specialization_schedule': 'Специализации: Программист, разработчик Занятость: полная занятость График работы: полный день, удаленная работа', 'experience': 'Опыт работы 2 года 2 месяца Май 2023 — по настоящее время1 годIndependent contractorPython developerРазрабатываю сервис для сборы статистики с 360 странФевраль 2022 — Март 20231 год 2 месяцаMirPython developer/founderУправлял командой из 20 человек.\\nЗанимаемся разработкой приложения для знакомств.', 'tags': ['C/C++', 'Pandas', 'MS SQL Server', ' Python', 'Flask', 'SQL', 'Git', 'Linux', 'PostgreSQL', 'FastAPI', 'aiohttp', 'ORM', 'Docker', 'Celery', 'Docker-compose', 'Redis', 'RabbitMQ', 'ClickHouse', 'Gitlab']}\n",
            "{'persons': ['Мужчина', '21 год', '13 сентября 2002', 'Москва', 'м. ВДНХ'], 'moving': 'Москва, м. ВДНХ, не готов к переезду, не готов к командировкам', 'name': 'Python-разработчик', 'salary': '', 'specialization_schedule': 'Специализации: Программист, разработчик Занятость: полная занятость, частичная занятость, проектная работа, волонтерство, стажировка График работы: полный день, сменный график, гибкий график, удаленная работа', 'experience': 'Опыт работы 2 года 4 месяца Ноябрь 2021 — Февраль 20242 года 4 месяцаВсм-СервисМоскваПрограммист PythonBackend \\nСтек технологий: Python, Django, Docker, PostgreSQL, Celery. \\nФункционал:\\n- разработка backend части сайта;\\n- разработка сайта с подключённым телеграмм ботом (aiogram).\\n- исправление различных багов в проекте.', 'tags': ['Python', 'ООП', 'Git', 'PostgreSQL', 'SQL', 'Django Framework', 'Django', 'HTML', 'CSS', 'Bootstrap', 'Stripe', 'Docker', 'Jupiter', 'SQLite', 'Умение работать в команде', 'Паттерны проектирования', 'Английский язык', 'Умение разбираться в чужом коде', 'Linux', 'Базы данных']}\n",
            "{'persons': ['Мужчина', '38 лет', '17 марта 1986', 'Казань'], 'moving': 'Казань, хочу переехать (Москва), готов к командировкам', 'name': 'Python-разработчик', 'salary': '80000 ₽ на руки', 'specialization_schedule': '80\\u2009000\\xa0₽ на\\xa0руки', 'experience': 'Опыт работы 12 лет 4 месяца Сентябрь 2013 — по настоящее время10 лет 8 месяцевmybook.ruМосква, mybook.ru,zvukislov.ruPython разработчикРазработка backend-а для сайта и приложений mybook, zvukislov.Январь 2012 — Сентябрь 20131 год 9 месяцевБАРС ГрупКазань, www.bars-open.ruИнформационные технологии, системная интеграция, интернет... Показать ещеPython-разработчикРазработка информационных порталов для ЖКХ, Электронного образования, Людей с ограниченными способностями. Развертывание и сопровождение региональных версий.', 'tags': []}\n",
            "{'persons': ['Мужчина', '23 года', '23 июня 2000', 'Москва', 'м. Сходненская'], 'moving': 'Москва, м. Сходненская, не готов к переезду, готов к командировкам', 'name': 'Python-разработчик/ Python developer', 'salary': '', 'specialization_schedule': 'Специализации: Программист, разработчик Занятость: полная занятость График работы: полный день', 'experience': 'Опыт работы 4 года 2 месяца Декабрь 2020 — по настоящее время3 года 5 месяцевФрилансМоскваИнформационные технологии, системная интеграция, интернет... Показать ещеPython-разработчикКлючевые навыки:\\n•\\t2-летний опыт работы в IT;\\n•\\tПонимание SQL запросов;\\n•\\tЗнание Python, Django, DRF, SQL;\\n•\\tНаличие завершенных проектов;\\n•\\tЗнание Git;\\n•\\tУмение разбираться в чужом коде;\\n•\\tАнглийский свободный;\\n•\\tОгромное желание развиваться в направлении разработки Python.\\n\\nПК: PyCharm, Python Programming, HTML, CSS\\n\\nФункциональные обязанности:\\n•\\tДоработка существующих/сопровождение сервисов (Python);\\n•\\tОбщение с постановщиками задач, обсуждение механизмов доработки/реализации;\\n•\\tВзаимодействие с менеджером, дизайнером, мобильными и frontend разработчиками;\\n•\\tНаписание и поддержка генераторов регулярных отчетов, интеграция с Google Sheets;\\n•\\tРазработка web-backend, Telegram-ботов, backoffice;\\n•\\tРеализация взаимодействия клиента с сервером.\\nМарт 2020 — Ноябрь 20209 месяцевЦентрСтройИнвест (Строительство жилых и нежилых зданий)МоскваСтроительство, недвижимость, эксплуатация, проектирование... Показать ещеПомощник системного администратора•\\tУстановка, настройка, тестирование и обеспечение работоспособности аппаратного и программного обеспечения;\\n•\\tПоддержка полного стека рабочих станций, периферийного оборудования;\\n•\\tУчастие в проектах по апгрейду сетевого оборудования;\\n•\\tПодбор и дальнейшая установка необходимого оборудования для обеспечения работоспособности новых помещений. \\n', 'tags': ['Исполнительность', 'Поиск информации в интернет', 'Пользователь ПК', 'Грамотная речь', 'Деловая переписка', 'Работа с большим объемом информации', 'Internet', 'MS PowerPoint', 'Английский язык', 'Телефонные переговоры', 'Грамотность', 'Электронная почта']}\n",
            "{'persons': ['Мужчина', '31 год', '28 февраля 1993', 'Москва', 'м. Строгино'], 'moving': 'Москва, м. Строгино, готов к переезду, готов к редким командировкам', 'name': 'Python Backend Developer', 'salary': '', 'specialization_schedule': 'Специализации: Программист, разработчик Занятость: полная занятость График работы: полный день', 'experience': 'Опыт работы 2 года 3 месяца Февраль 2022 — по настоящее время2 года 3 месяцаUSETECHМосква, www.usetech.ruИнформационные технологии, системная интеграция, интернет... Показать ещеПрограммист PythonPython, Django, DRF, тесты, запросы на Postgres', 'tags': ['Python', 'Linux', 'PostgreSQL', 'Docker', 'Git', 'Django', 'Django Framework', 'Redis']}\n",
            "{'persons': ['Мужчина', '24 года', '10 декабря 1999', 'Новосибирск', 'м. Заельцовская'], 'moving': 'Новосибирск, м. Заельцовская, готов к переезду (Москва, Санкт-Петербург, Другие регионы), не готов к командировкам', 'name': 'Python developer', 'salary': '', 'specialization_schedule': 'Специализации: Программист, разработчик Занятость: полная занятость График работы: полный день, сменный график, гибкий график, удаленная работа', 'experience': 'Опыт работы 2 года 4 месяца Март 2023 — по настоящее время1 год 2 месяцаWhitelist CapitalЕкатеринбург, whitelist.capital/Информационные технологии, системная интеграция, интернет... Показать ещеPython developerBackend developerАвгуст 2022 — Октябрь 20223 месяцаВЕБ РИЭЛТИМосква, idaproject.com/Информационные технологии, системная интеграция, интернет... Показать ещеПрограммист Python1. Backend\\nСтек технологий:\\nPython, Django + DRF, Docker, PostgreSQL, Redis, Celery, unit test.\\n\\nФункционал:\\n- Разработка backend части сайта, обсуждение с frontend разработчиками; \\n- Тестирование нового функционала;\\n- Исправление различных багов в проектах;\\n- Разработка административной части сайта;\\n- Написание документации.Сентябрь 2021 — Август 20221 годHEALTHMONITORНовосибирск, www.healthmonitor.pro/ruИнформационные технологии, системная интеграция, интернет... Показать ещеPython developerРазработка и покрытия кода тестами проекта для медицинской диагностики. \\n\\n1. Backend\\nСтек технологий:\\nPython, Django, Docker, PostgreSQL, Redis, Celery, unit test, Falcon, Flask, Selenium.\\n\\nФункционал:\\n- Разработка backend.\\n- Покрытие тестами проекта на 100% (coverage lib);\\n- Исправление багов в проектах;\\n- Разработка административной части сайта, и написание логики поведения;\\n- Разработка JWT авторизации;\\n- Интеграции со сторонними сервисами с использованием API;\\n- Парсинг сложных сайтов с использованием Selenium.\\n- Написание документации.\\n\\n2. Frontend.\\nСтек технологий:\\nHTML, CSS, JS.\\n\\nФункционал:\\n- Разработка верстки сайтов;\\n- Разработка JS логики.\\n- Разработка генерации чеков заказов пользователя.\\n\\nПоддержка существующих проектов, разработка новых приложений с нуля. Интеграция сторонних сервисов. Документирование и тестирование написанного кода.\\n ', 'tags': ['Git', 'Python', 'ООП', 'Django Framework', 'HTML5', 'CSS3', 'JavaScript', 'Django REST framework', 'Falcon', 'Redis', 'SQL', 'Selenium', 'Celery', 'Docker', 'Flask']}\n"
          ]
        }
      ]
    },
    {
      "cell_type": "code",
      "source": [
        "# Сохраняем результат в файл .json\n",
        "data = []\n",
        "for a in link_resume[:10]:\n",
        "  data.append(get_resume(a))\n",
        "  time.sleep(1)\n",
        "  # Сохраняем в файл\n",
        "  with open(\"data.json\", \"w\", encoding=\"utf-8\") as f:\n",
        "    json.dump(data,f,indent=4,ensure_ascii=False)"
      ],
      "metadata": {
        "id": "qJJWy-LvBUkg"
      },
      "execution_count": null,
      "outputs": []
    },
    {
      "cell_type": "code",
      "source": [
        "# Извлекаем данные из файла .json с помощью pandas\n",
        "data_df = pd.read_json(\"data.json\")"
      ],
      "metadata": {
        "id": "euD0Ib71D9ka"
      },
      "execution_count": null,
      "outputs": []
    },
    {
      "cell_type": "code",
      "source": [
        "data_df"
      ],
      "metadata": {
        "colab": {
          "base_uri": "https://localhost:8080/",
          "height": 710
        },
        "id": "h243M8etFUWT",
        "outputId": "9004b4a1-0bee-47fc-e39c-50dc021a4a30"
      },
      "execution_count": null,
      "outputs": [
        {
          "output_type": "execute_result",
          "data": {
            "text/plain": [
              "                                             persons  \\\n",
              "0            [Мужчина, 47 лет, 18 мая 1976, Ногинск]   \n",
              "1  [Мужчина, 37 лет, 12 марта 1987, Санкт-Петербург]   \n",
              "2         [Мужчина, 25 лет, 19 октября 1998, Москва]   \n",
              "3            [Мужчина, 24 года, 4 июня 1999, Москва]   \n",
              "4            [Мужчина, 23 года, 13 мая 2000, Москва]   \n",
              "5  [Мужчина, 21 год, 13 сентября 2002, Москва, м....   \n",
              "6           [Мужчина, 38 лет, 17 марта 1986, Казань]   \n",
              "7  [Мужчина, 23 года, 23 июня 2000, Москва, м. Сх...   \n",
              "8  [Мужчина, 31 год, 28 февраля 1993, Москва, м. ...   \n",
              "9  [Мужчина, 24 года, 10 декабря 1999, Новосибирс...   \n",
              "\n",
              "                                              moving  \\\n",
              "0  Ногинск, готов к переезду (Москва, Россия), не...   \n",
              "1  Санкт-Петербург, готов к переезду (Москва), го...   \n",
              "2    Москва, готов к переезду, готов к командировкам   \n",
              "3  Москва, не готов к переезду, готов к редким ко...   \n",
              "4    Москва, готов к переезду, готов к командировкам   \n",
              "5  Москва, м. ВДНХ, не готов к переезду, не готов...   \n",
              "6  Казань, хочу переехать (Москва), готов к коман...   \n",
              "7  Москва, м. Сходненская, не готов к переезду, г...   \n",
              "8  Москва, м. Строгино, готов к переезду, готов к...   \n",
              "9  Новосибирск, м. Заельцовская, готов к переезду...   \n",
              "\n",
              "                                   name            salary  \\\n",
              "0                    Программист Python                     \n",
              "1                    Python разработчик                     \n",
              "2                      Python developer  270000 ₽ на руки   \n",
              "3                    Python разработчик                     \n",
              "4                    Программист Python                     \n",
              "5                    Python-разработчик                     \n",
              "6                    Python-разработчик   80000 ₽ на руки   \n",
              "7  Python-разработчик/ Python developer                     \n",
              "8              Python Backend Developer                     \n",
              "9                      Python developer                     \n",
              "\n",
              "                             specialization_schedule  \\\n",
              "0  Специализации: Программист, разработчик Занято...   \n",
              "1  Специализации: Программист, разработчик Занято...   \n",
              "2                                  270 000 ₽ на руки   \n",
              "3  Специализации: Программист, разработчик Занято...   \n",
              "4  Специализации: Программист, разработчик Занято...   \n",
              "5  Специализации: Программист, разработчик Занято...   \n",
              "6                                   80 000 ₽ на руки   \n",
              "7  Специализации: Программист, разработчик Занято...   \n",
              "8  Специализации: Программист, разработчик Занято...   \n",
              "9  Специализации: Программист, разработчик Занято...   \n",
              "\n",
              "                                          experience  \\\n",
              "0  Опыт работы 8 лет 6 месяцев Ноябрь 2015 — по н...   \n",
              "1  Опыт работы 12 лет 8 месяцев Декабрь 2022 — по...   \n",
              "2  Опыт работы 8 лет 2 месяца Июнь 2020 — по наст...   \n",
              "3  Опыт работы 2 года 6 месяцев Ноябрь 2023 — по ...   \n",
              "4  Опыт работы 2 года 2 месяца Май 2023 — по наст...   \n",
              "5  Опыт работы 2 года 4 месяца Ноябрь 2021 — Февр...   \n",
              "6  Опыт работы 12 лет 4 месяца Сентябрь 2013 — по...   \n",
              "7  Опыт работы 4 года 2 месяца Декабрь 2020 — по ...   \n",
              "8  Опыт работы 2 года 3 месяца Февраль 2022 — по ...   \n",
              "9  Опыт работы 2 года 4 месяца Март 2023 — по нас...   \n",
              "\n",
              "                                                tags  \n",
              "0  [JavaScript, Python, Linux, HTML5, SQL, CSS3, ...  \n",
              "1  [Python, Django REST Framework, Django Framewo...  \n",
              "2  [Ответственность, Исполнительность, JavaScript...  \n",
              "3  [ SQL, Docker, Flask, MySQL, PostgreSQL, FastA...  \n",
              "4  [C/C++, Pandas, MS SQL Server,  Python, Flask,...  \n",
              "5  [Python, ООП, Git, PostgreSQL, SQL, Django Fra...  \n",
              "6                                                 []  \n",
              "7  [Исполнительность, Поиск информации в интернет...  \n",
              "8  [Python, Linux, PostgreSQL, Docker, Git, Djang...  \n",
              "9  [Git, Python, ООП, Django Framework, HTML5, CS...  "
            ],
            "text/html": [
              "\n",
              "  <div id=\"df-3fbf39f0-eecf-4943-9cc3-4d5128e3609b\" class=\"colab-df-container\">\n",
              "    <div>\n",
              "<style scoped>\n",
              "    .dataframe tbody tr th:only-of-type {\n",
              "        vertical-align: middle;\n",
              "    }\n",
              "\n",
              "    .dataframe tbody tr th {\n",
              "        vertical-align: top;\n",
              "    }\n",
              "\n",
              "    .dataframe thead th {\n",
              "        text-align: right;\n",
              "    }\n",
              "</style>\n",
              "<table border=\"1\" class=\"dataframe\">\n",
              "  <thead>\n",
              "    <tr style=\"text-align: right;\">\n",
              "      <th></th>\n",
              "      <th>persons</th>\n",
              "      <th>moving</th>\n",
              "      <th>name</th>\n",
              "      <th>salary</th>\n",
              "      <th>specialization_schedule</th>\n",
              "      <th>experience</th>\n",
              "      <th>tags</th>\n",
              "    </tr>\n",
              "  </thead>\n",
              "  <tbody>\n",
              "    <tr>\n",
              "      <th>0</th>\n",
              "      <td>[Мужчина, 47 лет, 18 мая 1976, Ногинск]</td>\n",
              "      <td>Ногинск, готов к переезду (Москва, Россия), не...</td>\n",
              "      <td>Программист Python</td>\n",
              "      <td></td>\n",
              "      <td>Специализации: Программист, разработчик Занято...</td>\n",
              "      <td>Опыт работы 8 лет 6 месяцев Ноябрь 2015 — по н...</td>\n",
              "      <td>[JavaScript, Python, Linux, HTML5, SQL, CSS3, ...</td>\n",
              "    </tr>\n",
              "    <tr>\n",
              "      <th>1</th>\n",
              "      <td>[Мужчина, 37 лет, 12 марта 1987, Санкт-Петербург]</td>\n",
              "      <td>Санкт-Петербург, готов к переезду (Москва), го...</td>\n",
              "      <td>Python разработчик</td>\n",
              "      <td></td>\n",
              "      <td>Специализации: Программист, разработчик Занято...</td>\n",
              "      <td>Опыт работы 12 лет 8 месяцев Декабрь 2022 — по...</td>\n",
              "      <td>[Python, Django REST Framework, Django Framewo...</td>\n",
              "    </tr>\n",
              "    <tr>\n",
              "      <th>2</th>\n",
              "      <td>[Мужчина, 25 лет, 19 октября 1998, Москва]</td>\n",
              "      <td>Москва, готов к переезду, готов к командировкам</td>\n",
              "      <td>Python developer</td>\n",
              "      <td>270000 ₽ на руки</td>\n",
              "      <td>270 000 ₽ на руки</td>\n",
              "      <td>Опыт работы 8 лет 2 месяца Июнь 2020 — по наст...</td>\n",
              "      <td>[Ответственность, Исполнительность, JavaScript...</td>\n",
              "    </tr>\n",
              "    <tr>\n",
              "      <th>3</th>\n",
              "      <td>[Мужчина, 24 года, 4 июня 1999, Москва]</td>\n",
              "      <td>Москва, не готов к переезду, готов к редким ко...</td>\n",
              "      <td>Python разработчик</td>\n",
              "      <td></td>\n",
              "      <td>Специализации: Программист, разработчик Занято...</td>\n",
              "      <td>Опыт работы 2 года 6 месяцев Ноябрь 2023 — по ...</td>\n",
              "      <td>[ SQL, Docker, Flask, MySQL, PostgreSQL, FastA...</td>\n",
              "    </tr>\n",
              "    <tr>\n",
              "      <th>4</th>\n",
              "      <td>[Мужчина, 23 года, 13 мая 2000, Москва]</td>\n",
              "      <td>Москва, готов к переезду, готов к командировкам</td>\n",
              "      <td>Программист Python</td>\n",
              "      <td></td>\n",
              "      <td>Специализации: Программист, разработчик Занято...</td>\n",
              "      <td>Опыт работы 2 года 2 месяца Май 2023 — по наст...</td>\n",
              "      <td>[C/C++, Pandas, MS SQL Server,  Python, Flask,...</td>\n",
              "    </tr>\n",
              "    <tr>\n",
              "      <th>5</th>\n",
              "      <td>[Мужчина, 21 год, 13 сентября 2002, Москва, м....</td>\n",
              "      <td>Москва, м. ВДНХ, не готов к переезду, не готов...</td>\n",
              "      <td>Python-разработчик</td>\n",
              "      <td></td>\n",
              "      <td>Специализации: Программист, разработчик Занято...</td>\n",
              "      <td>Опыт работы 2 года 4 месяца Ноябрь 2021 — Февр...</td>\n",
              "      <td>[Python, ООП, Git, PostgreSQL, SQL, Django Fra...</td>\n",
              "    </tr>\n",
              "    <tr>\n",
              "      <th>6</th>\n",
              "      <td>[Мужчина, 38 лет, 17 марта 1986, Казань]</td>\n",
              "      <td>Казань, хочу переехать (Москва), готов к коман...</td>\n",
              "      <td>Python-разработчик</td>\n",
              "      <td>80000 ₽ на руки</td>\n",
              "      <td>80 000 ₽ на руки</td>\n",
              "      <td>Опыт работы 12 лет 4 месяца Сентябрь 2013 — по...</td>\n",
              "      <td>[]</td>\n",
              "    </tr>\n",
              "    <tr>\n",
              "      <th>7</th>\n",
              "      <td>[Мужчина, 23 года, 23 июня 2000, Москва, м. Сх...</td>\n",
              "      <td>Москва, м. Сходненская, не готов к переезду, г...</td>\n",
              "      <td>Python-разработчик/ Python developer</td>\n",
              "      <td></td>\n",
              "      <td>Специализации: Программист, разработчик Занято...</td>\n",
              "      <td>Опыт работы 4 года 2 месяца Декабрь 2020 — по ...</td>\n",
              "      <td>[Исполнительность, Поиск информации в интернет...</td>\n",
              "    </tr>\n",
              "    <tr>\n",
              "      <th>8</th>\n",
              "      <td>[Мужчина, 31 год, 28 февраля 1993, Москва, м. ...</td>\n",
              "      <td>Москва, м. Строгино, готов к переезду, готов к...</td>\n",
              "      <td>Python Backend Developer</td>\n",
              "      <td></td>\n",
              "      <td>Специализации: Программист, разработчик Занято...</td>\n",
              "      <td>Опыт работы 2 года 3 месяца Февраль 2022 — по ...</td>\n",
              "      <td>[Python, Linux, PostgreSQL, Docker, Git, Djang...</td>\n",
              "    </tr>\n",
              "    <tr>\n",
              "      <th>9</th>\n",
              "      <td>[Мужчина, 24 года, 10 декабря 1999, Новосибирс...</td>\n",
              "      <td>Новосибирск, м. Заельцовская, готов к переезду...</td>\n",
              "      <td>Python developer</td>\n",
              "      <td></td>\n",
              "      <td>Специализации: Программист, разработчик Занято...</td>\n",
              "      <td>Опыт работы 2 года 4 месяца Март 2023 — по нас...</td>\n",
              "      <td>[Git, Python, ООП, Django Framework, HTML5, CS...</td>\n",
              "    </tr>\n",
              "  </tbody>\n",
              "</table>\n",
              "</div>\n",
              "    <div class=\"colab-df-buttons\">\n",
              "\n",
              "  <div class=\"colab-df-container\">\n",
              "    <button class=\"colab-df-convert\" onclick=\"convertToInteractive('df-3fbf39f0-eecf-4943-9cc3-4d5128e3609b')\"\n",
              "            title=\"Convert this dataframe to an interactive table.\"\n",
              "            style=\"display:none;\">\n",
              "\n",
              "  <svg xmlns=\"http://www.w3.org/2000/svg\" height=\"24px\" viewBox=\"0 -960 960 960\">\n",
              "    <path d=\"M120-120v-720h720v720H120Zm60-500h600v-160H180v160Zm220 220h160v-160H400v160Zm0 220h160v-160H400v160ZM180-400h160v-160H180v160Zm440 0h160v-160H620v160ZM180-180h160v-160H180v160Zm440 0h160v-160H620v160Z\"/>\n",
              "  </svg>\n",
              "    </button>\n",
              "\n",
              "  <style>\n",
              "    .colab-df-container {\n",
              "      display:flex;\n",
              "      gap: 12px;\n",
              "    }\n",
              "\n",
              "    .colab-df-convert {\n",
              "      background-color: #E8F0FE;\n",
              "      border: none;\n",
              "      border-radius: 50%;\n",
              "      cursor: pointer;\n",
              "      display: none;\n",
              "      fill: #1967D2;\n",
              "      height: 32px;\n",
              "      padding: 0 0 0 0;\n",
              "      width: 32px;\n",
              "    }\n",
              "\n",
              "    .colab-df-convert:hover {\n",
              "      background-color: #E2EBFA;\n",
              "      box-shadow: 0px 1px 2px rgba(60, 64, 67, 0.3), 0px 1px 3px 1px rgba(60, 64, 67, 0.15);\n",
              "      fill: #174EA6;\n",
              "    }\n",
              "\n",
              "    .colab-df-buttons div {\n",
              "      margin-bottom: 4px;\n",
              "    }\n",
              "\n",
              "    [theme=dark] .colab-df-convert {\n",
              "      background-color: #3B4455;\n",
              "      fill: #D2E3FC;\n",
              "    }\n",
              "\n",
              "    [theme=dark] .colab-df-convert:hover {\n",
              "      background-color: #434B5C;\n",
              "      box-shadow: 0px 1px 3px 1px rgba(0, 0, 0, 0.15);\n",
              "      filter: drop-shadow(0px 1px 2px rgba(0, 0, 0, 0.3));\n",
              "      fill: #FFFFFF;\n",
              "    }\n",
              "  </style>\n",
              "\n",
              "    <script>\n",
              "      const buttonEl =\n",
              "        document.querySelector('#df-3fbf39f0-eecf-4943-9cc3-4d5128e3609b button.colab-df-convert');\n",
              "      buttonEl.style.display =\n",
              "        google.colab.kernel.accessAllowed ? 'block' : 'none';\n",
              "\n",
              "      async function convertToInteractive(key) {\n",
              "        const element = document.querySelector('#df-3fbf39f0-eecf-4943-9cc3-4d5128e3609b');\n",
              "        const dataTable =\n",
              "          await google.colab.kernel.invokeFunction('convertToInteractive',\n",
              "                                                    [key], {});\n",
              "        if (!dataTable) return;\n",
              "\n",
              "        const docLinkHtml = 'Like what you see? Visit the ' +\n",
              "          '<a target=\"_blank\" href=https://colab.research.google.com/notebooks/data_table.ipynb>data table notebook</a>'\n",
              "          + ' to learn more about interactive tables.';\n",
              "        element.innerHTML = '';\n",
              "        dataTable['output_type'] = 'display_data';\n",
              "        await google.colab.output.renderOutput(dataTable, element);\n",
              "        const docLink = document.createElement('div');\n",
              "        docLink.innerHTML = docLinkHtml;\n",
              "        element.appendChild(docLink);\n",
              "      }\n",
              "    </script>\n",
              "  </div>\n",
              "\n",
              "\n",
              "<div id=\"df-8b050044-54ff-4e9f-9eff-7f6423a5dc87\">\n",
              "  <button class=\"colab-df-quickchart\" onclick=\"quickchart('df-8b050044-54ff-4e9f-9eff-7f6423a5dc87')\"\n",
              "            title=\"Suggest charts\"\n",
              "            style=\"display:none;\">\n",
              "\n",
              "<svg xmlns=\"http://www.w3.org/2000/svg\" height=\"24px\"viewBox=\"0 0 24 24\"\n",
              "     width=\"24px\">\n",
              "    <g>\n",
              "        <path d=\"M19 3H5c-1.1 0-2 .9-2 2v14c0 1.1.9 2 2 2h14c1.1 0 2-.9 2-2V5c0-1.1-.9-2-2-2zM9 17H7v-7h2v7zm4 0h-2V7h2v10zm4 0h-2v-4h2v4z\"/>\n",
              "    </g>\n",
              "</svg>\n",
              "  </button>\n",
              "\n",
              "<style>\n",
              "  .colab-df-quickchart {\n",
              "      --bg-color: #E8F0FE;\n",
              "      --fill-color: #1967D2;\n",
              "      --hover-bg-color: #E2EBFA;\n",
              "      --hover-fill-color: #174EA6;\n",
              "      --disabled-fill-color: #AAA;\n",
              "      --disabled-bg-color: #DDD;\n",
              "  }\n",
              "\n",
              "  [theme=dark] .colab-df-quickchart {\n",
              "      --bg-color: #3B4455;\n",
              "      --fill-color: #D2E3FC;\n",
              "      --hover-bg-color: #434B5C;\n",
              "      --hover-fill-color: #FFFFFF;\n",
              "      --disabled-bg-color: #3B4455;\n",
              "      --disabled-fill-color: #666;\n",
              "  }\n",
              "\n",
              "  .colab-df-quickchart {\n",
              "    background-color: var(--bg-color);\n",
              "    border: none;\n",
              "    border-radius: 50%;\n",
              "    cursor: pointer;\n",
              "    display: none;\n",
              "    fill: var(--fill-color);\n",
              "    height: 32px;\n",
              "    padding: 0;\n",
              "    width: 32px;\n",
              "  }\n",
              "\n",
              "  .colab-df-quickchart:hover {\n",
              "    background-color: var(--hover-bg-color);\n",
              "    box-shadow: 0 1px 2px rgba(60, 64, 67, 0.3), 0 1px 3px 1px rgba(60, 64, 67, 0.15);\n",
              "    fill: var(--button-hover-fill-color);\n",
              "  }\n",
              "\n",
              "  .colab-df-quickchart-complete:disabled,\n",
              "  .colab-df-quickchart-complete:disabled:hover {\n",
              "    background-color: var(--disabled-bg-color);\n",
              "    fill: var(--disabled-fill-color);\n",
              "    box-shadow: none;\n",
              "  }\n",
              "\n",
              "  .colab-df-spinner {\n",
              "    border: 2px solid var(--fill-color);\n",
              "    border-color: transparent;\n",
              "    border-bottom-color: var(--fill-color);\n",
              "    animation:\n",
              "      spin 1s steps(1) infinite;\n",
              "  }\n",
              "\n",
              "  @keyframes spin {\n",
              "    0% {\n",
              "      border-color: transparent;\n",
              "      border-bottom-color: var(--fill-color);\n",
              "      border-left-color: var(--fill-color);\n",
              "    }\n",
              "    20% {\n",
              "      border-color: transparent;\n",
              "      border-left-color: var(--fill-color);\n",
              "      border-top-color: var(--fill-color);\n",
              "    }\n",
              "    30% {\n",
              "      border-color: transparent;\n",
              "      border-left-color: var(--fill-color);\n",
              "      border-top-color: var(--fill-color);\n",
              "      border-right-color: var(--fill-color);\n",
              "    }\n",
              "    40% {\n",
              "      border-color: transparent;\n",
              "      border-right-color: var(--fill-color);\n",
              "      border-top-color: var(--fill-color);\n",
              "    }\n",
              "    60% {\n",
              "      border-color: transparent;\n",
              "      border-right-color: var(--fill-color);\n",
              "    }\n",
              "    80% {\n",
              "      border-color: transparent;\n",
              "      border-right-color: var(--fill-color);\n",
              "      border-bottom-color: var(--fill-color);\n",
              "    }\n",
              "    90% {\n",
              "      border-color: transparent;\n",
              "      border-bottom-color: var(--fill-color);\n",
              "    }\n",
              "  }\n",
              "</style>\n",
              "\n",
              "  <script>\n",
              "    async function quickchart(key) {\n",
              "      const quickchartButtonEl =\n",
              "        document.querySelector('#' + key + ' button');\n",
              "      quickchartButtonEl.disabled = true;  // To prevent multiple clicks.\n",
              "      quickchartButtonEl.classList.add('colab-df-spinner');\n",
              "      try {\n",
              "        const charts = await google.colab.kernel.invokeFunction(\n",
              "            'suggestCharts', [key], {});\n",
              "      } catch (error) {\n",
              "        console.error('Error during call to suggestCharts:', error);\n",
              "      }\n",
              "      quickchartButtonEl.classList.remove('colab-df-spinner');\n",
              "      quickchartButtonEl.classList.add('colab-df-quickchart-complete');\n",
              "    }\n",
              "    (() => {\n",
              "      let quickchartButtonEl =\n",
              "        document.querySelector('#df-8b050044-54ff-4e9f-9eff-7f6423a5dc87 button');\n",
              "      quickchartButtonEl.style.display =\n",
              "        google.colab.kernel.accessAllowed ? 'block' : 'none';\n",
              "    })();\n",
              "  </script>\n",
              "</div>\n",
              "    </div>\n",
              "  </div>\n"
            ],
            "application/vnd.google.colaboratory.intrinsic+json": {
              "type": "dataframe",
              "variable_name": "data_df",
              "summary": "{\n  \"name\": \"data_df\",\n  \"rows\": 10,\n  \"fields\": [\n    {\n      \"column\": \"persons\",\n      \"properties\": {\n        \"dtype\": \"object\",\n        \"semantic_type\": \"\",\n        \"description\": \"\"\n      }\n    },\n    {\n      \"column\": \"moving\",\n      \"properties\": {\n        \"dtype\": \"string\",\n        \"num_unique_values\": 9,\n        \"samples\": [\n          \"\\u041c\\u043e\\u0441\\u043a\\u0432\\u0430, \\u043c. \\u0421\\u0442\\u0440\\u043e\\u0433\\u0438\\u043d\\u043e, \\u0433\\u043e\\u0442\\u043e\\u0432 \\u043a \\u043f\\u0435\\u0440\\u0435\\u0435\\u0437\\u0434\\u0443, \\u0433\\u043e\\u0442\\u043e\\u0432 \\u043a \\u0440\\u0435\\u0434\\u043a\\u0438\\u043c \\u043a\\u043e\\u043c\\u0430\\u043d\\u0434\\u0438\\u0440\\u043e\\u0432\\u043a\\u0430\\u043c\",\n          \"\\u0421\\u0430\\u043d\\u043a\\u0442-\\u041f\\u0435\\u0442\\u0435\\u0440\\u0431\\u0443\\u0440\\u0433, \\u0433\\u043e\\u0442\\u043e\\u0432 \\u043a \\u043f\\u0435\\u0440\\u0435\\u0435\\u0437\\u0434\\u0443 (\\u041c\\u043e\\u0441\\u043a\\u0432\\u0430), \\u0433\\u043e\\u0442\\u043e\\u0432 \\u043a \\u043a\\u043e\\u043c\\u0430\\u043d\\u0434\\u0438\\u0440\\u043e\\u0432\\u043a\\u0430\\u043c\",\n          \"\\u041a\\u0430\\u0437\\u0430\\u043d\\u044c, \\u0445\\u043e\\u0447\\u0443 \\u043f\\u0435\\u0440\\u0435\\u0435\\u0445\\u0430\\u0442\\u044c (\\u041c\\u043e\\u0441\\u043a\\u0432\\u0430), \\u0433\\u043e\\u0442\\u043e\\u0432 \\u043a \\u043a\\u043e\\u043c\\u0430\\u043d\\u0434\\u0438\\u0440\\u043e\\u0432\\u043a\\u0430\\u043c\"\n        ],\n        \"semantic_type\": \"\",\n        \"description\": \"\"\n      }\n    },\n    {\n      \"column\": \"name\",\n      \"properties\": {\n        \"dtype\": \"string\",\n        \"num_unique_values\": 6,\n        \"samples\": [\n          \"\\u041f\\u0440\\u043e\\u0433\\u0440\\u0430\\u043c\\u043c\\u0438\\u0441\\u0442 Python\",\n          \"Python \\u0440\\u0430\\u0437\\u0440\\u0430\\u0431\\u043e\\u0442\\u0447\\u0438\\u043a\",\n          \"Python Backend Developer\"\n        ],\n        \"semantic_type\": \"\",\n        \"description\": \"\"\n      }\n    },\n    {\n      \"column\": \"salary\",\n      \"properties\": {\n        \"dtype\": \"category\",\n        \"num_unique_values\": 3,\n        \"samples\": [\n          \"\",\n          \"270000 \\u20bd \\u043d\\u0430 \\u0440\\u0443\\u043a\\u0438\",\n          \"80000 \\u20bd \\u043d\\u0430 \\u0440\\u0443\\u043a\\u0438\"\n        ],\n        \"semantic_type\": \"\",\n        \"description\": \"\"\n      }\n    },\n    {\n      \"column\": \"specialization_schedule\",\n      \"properties\": {\n        \"dtype\": \"string\",\n        \"num_unique_values\": 8,\n        \"samples\": [\n          \"270\\u2009000\\u00a0\\u20bd \\u043d\\u0430\\u00a0\\u0440\\u0443\\u043a\\u0438\",\n          \"80\\u2009000\\u00a0\\u20bd \\u043d\\u0430\\u00a0\\u0440\\u0443\\u043a\\u0438\",\n          \"\\u0421\\u043f\\u0435\\u0446\\u0438\\u0430\\u043b\\u0438\\u0437\\u0430\\u0446\\u0438\\u0438: \\u041f\\u0440\\u043e\\u0433\\u0440\\u0430\\u043c\\u043c\\u0438\\u0441\\u0442, \\u0440\\u0430\\u0437\\u0440\\u0430\\u0431\\u043e\\u0442\\u0447\\u0438\\u043a \\u0417\\u0430\\u043d\\u044f\\u0442\\u043e\\u0441\\u0442\\u044c: \\u043f\\u043e\\u043b\\u043d\\u0430\\u044f \\u0437\\u0430\\u043d\\u044f\\u0442\\u043e\\u0441\\u0442\\u044c, \\u0447\\u0430\\u0441\\u0442\\u0438\\u0447\\u043d\\u0430\\u044f \\u0437\\u0430\\u043d\\u044f\\u0442\\u043e\\u0441\\u0442\\u044c, \\u043f\\u0440\\u043e\\u0435\\u043a\\u0442\\u043d\\u0430\\u044f \\u0440\\u0430\\u0431\\u043e\\u0442\\u0430, \\u0441\\u0442\\u0430\\u0436\\u0438\\u0440\\u043e\\u0432\\u043a\\u0430 \\u0413\\u0440\\u0430\\u0444\\u0438\\u043a \\u0440\\u0430\\u0431\\u043e\\u0442\\u044b: \\u043f\\u043e\\u043b\\u043d\\u044b\\u0439 \\u0434\\u0435\\u043d\\u044c, \\u0433\\u0438\\u0431\\u043a\\u0438\\u0439 \\u0433\\u0440\\u0430\\u0444\\u0438\\u043a, \\u0443\\u0434\\u0430\\u043b\\u0435\\u043d\\u043d\\u0430\\u044f \\u0440\\u0430\\u0431\\u043e\\u0442\\u0430\"\n        ],\n        \"semantic_type\": \"\",\n        \"description\": \"\"\n      }\n    },\n    {\n      \"column\": \"experience\",\n      \"properties\": {\n        \"dtype\": \"string\",\n        \"num_unique_values\": 10,\n        \"samples\": [\n          \"\\u041e\\u043f\\u044b\\u0442 \\u0440\\u0430\\u0431\\u043e\\u0442\\u044b 2 \\u0433\\u043e\\u0434\\u0430 3 \\u043c\\u0435\\u0441\\u044f\\u0446\\u0430 \\u0424\\u0435\\u0432\\u0440\\u0430\\u043b\\u044c 2022 \\u2014 \\u043f\\u043e \\u043d\\u0430\\u0441\\u0442\\u043e\\u044f\\u0449\\u0435\\u0435 \\u0432\\u0440\\u0435\\u043c\\u044f2 \\u0433\\u043e\\u0434\\u0430 3 \\u043c\\u0435\\u0441\\u044f\\u0446\\u0430USETECH\\u041c\\u043e\\u0441\\u043a\\u0432\\u0430, www.usetech.ru\\u0418\\u043d\\u0444\\u043e\\u0440\\u043c\\u0430\\u0446\\u0438\\u043e\\u043d\\u043d\\u044b\\u0435 \\u0442\\u0435\\u0445\\u043d\\u043e\\u043b\\u043e\\u0433\\u0438\\u0438, \\u0441\\u0438\\u0441\\u0442\\u0435\\u043c\\u043d\\u0430\\u044f \\u0438\\u043d\\u0442\\u0435\\u0433\\u0440\\u0430\\u0446\\u0438\\u044f, \\u0438\\u043d\\u0442\\u0435\\u0440\\u043d\\u0435\\u0442... \\u041f\\u043e\\u043a\\u0430\\u0437\\u0430\\u0442\\u044c \\u0435\\u0449\\u0435\\u041f\\u0440\\u043e\\u0433\\u0440\\u0430\\u043c\\u043c\\u0438\\u0441\\u0442 PythonPython, Django, DRF, \\u0442\\u0435\\u0441\\u0442\\u044b, \\u0437\\u0430\\u043f\\u0440\\u043e\\u0441\\u044b \\u043d\\u0430 Postgres\",\n          \"\\u041e\\u043f\\u044b\\u0442 \\u0440\\u0430\\u0431\\u043e\\u0442\\u044b 12 \\u043b\\u0435\\u0442 8 \\u043c\\u0435\\u0441\\u044f\\u0446\\u0435\\u0432 \\u0414\\u0435\\u043a\\u0430\\u0431\\u0440\\u044c 2022 \\u2014 \\u043f\\u043e \\u043d\\u0430\\u0441\\u0442\\u043e\\u044f\\u0449\\u0435\\u0435 \\u0432\\u0440\\u0435\\u043c\\u044f1 \\u0433\\u043e\\u0434 5 \\u043c\\u0435\\u0441\\u044f\\u0446\\u0435\\u0432\\u041f\\u0440\\u043e\\u0435\\u043a\\u0442\\u043d\\u0430\\u044f \\u0434\\u0435\\u044f\\u0442\\u0435\\u043b\\u044c\\u043d\\u043e\\u0441\\u0442\\u044c\\u0421\\u0430\\u043d\\u043a\\u0442-\\u041f\\u0435\\u0442\\u0435\\u0440\\u0431\\u0443\\u0440\\u0433, github.com/bikovshanin\\u0418\\u043d\\u0444\\u043e\\u0440\\u043c\\u0430\\u0446\\u0438\\u043e\\u043d\\u043d\\u044b\\u0435 \\u0442\\u0435\\u0445\\u043d\\u043e\\u043b\\u043e\\u0433\\u0438\\u0438, \\u0441\\u0438\\u0441\\u0442\\u0435\\u043c\\u043d\\u0430\\u044f \\u0438\\u043d\\u0442\\u0435\\u0433\\u0440\\u0430\\u0446\\u0438\\u044f, \\u0438\\u043d\\u0442\\u0435\\u0440\\u043d\\u0435\\u0442... \\u041f\\u043e\\u043a\\u0430\\u0437\\u0430\\u0442\\u044c \\u0435\\u0449\\u0435Python-\\u0440\\u0430\\u0437\\u0440\\u0430\\u0431\\u043e\\u0442\\u0447\\u0438\\u043a\\u0420\\u0430\\u0431\\u043e\\u0442\\u0430\\u044e \\u0441 Python \\u0438 \\u0435\\u0433\\u043e \\u0431\\u0438\\u0431\\u043b\\u0438\\u043e\\u0442\\u0435\\u043a\\u0430\\u043c\\u0438, \\u0430 \\u0442\\u0430\\u043a\\u0436\\u0435 \\u0441 \\u0444\\u0440\\u0435\\u0439\\u043c\\u0432\\u043e\\u0440\\u043a\\u0430\\u043c\\u0438 Django \\u0438 DRF. \\u0420\\u0430\\u0431\\u043e\\u0442\\u0430\\u043b \\u0441 \\u0421\\u0423\\u0411\\u0414 (SQlite, MySQL, PostgreSQL) \\u0438 API (Telegram, \\u042f\\u041f \\u0438 \\u043f\\u0440\\u043e\\u0447\\u0435\\u0435). \\u0412\\u043b\\u0430\\u0434\\u0435\\u044e \\u043d\\u0430\\u0432\\u044b\\u043a\\u0430\\u043c\\u0438 \\u0440\\u0430\\u0431\\u043e\\u0442\\u044b \\u0441 Docker, Git, NGINX, SQLAlchemy.\\n\\u0421 \\u043f\\u0440\\u043e\\u0435\\u043a\\u0442\\u0430\\u043c\\u0438, \\u043f\\u0440\\u0435\\u0434\\u0441\\u0442\\u0430\\u0432\\u043b\\u0435\\u043d\\u043d\\u044b\\u043c\\u0438 \\u043d\\u0438\\u0436\\u0435, \\u043c\\u043e\\u0436\\u043d\\u043e \\u043e\\u0437\\u043d\\u0430\\u043a\\u043e\\u043c\\u0438\\u0442\\u044c\\u0441\\u044f \\u043d\\u0430 GitHub:\\nhttps://github.com/bikovshanin\\n\\n\\u0414\\u043b\\u044f \\u043d\\u0435\\u0431\\u043e\\u043b\\u044c\\u0448\\u043e\\u0439 \\u043a\\u043e\\u043c\\u043f\\u0430\\u043d\\u0438\\u0438, \\u0441\\u043f\\u0435\\u0446\\u0438\\u0430\\u043b\\u0438\\u0437\\u0438\\u0440\\u0443\\u044e\\u0449\\u0435\\u0439\\u0441\\u044f \\u0432 \\u043e\\u0431\\u043b\\u0430\\u0441\\u0442\\u0438 \\u043a\\u0440\\u0438\\u043f\\u0442\\u043e\\u0432\\u0430\\u043b\\u044e\\u0442\\u043d\\u044b\\u0445 \\u0442\\u0435\\u0445\\u043d\\u043e\\u043b\\u043e\\u0433\\u0438\\u0439, \\u0440\\u0430\\u0437\\u0440\\u0430\\u0431\\u043e\\u0442\\u0430\\u043b \\u043d\\u0435\\u0441\\u043a\\u043e\\u043b\\u044c\\u043a\\u043e \\u043f\\u0440\\u043e\\u0433\\u0440\\u0430\\u043c\\u043c\\u043d\\u044b\\u0445 \\u0440\\u0435\\u0448\\u0435\\u043d\\u0438\\u0439:\\n1. \\u0421\\u043e\\u0437\\u0434\\u0430\\u043b \\u0441\\u043a\\u0440\\u0438\\u043f\\u0442 \\u0434\\u043b\\u044f \\u0437\\u0430\\u0433\\u0440\\u0443\\u0437\\u043a\\u0438 \\u0438\\u0441\\u0442\\u043e\\u0440\\u0438\\u0438 \\u043a\\u0443\\u0440\\u0441\\u0430 \\u043a\\u0440\\u0438\\u043f\\u0442\\u043e\\u0432\\u0430\\u043b\\u044e\\u0442 \\u0432 \\u0431\\u0430\\u0437\\u0443 \\u0434\\u0430\\u043d\\u043d\\u044b\\u0445. \\u0421\\u043a\\u0440\\u0438\\u043f\\u0442 \\u043f\\u0435\\u0440\\u0438\\u043e\\u0434\\u0438\\u0447\\u0435\\u0441\\u043a\\u0438 \\u0441\\u043a\\u0430\\u0447\\u0438\\u0432\\u0430\\u0435\\u0442, \\u043e\\u0431\\u0440\\u0430\\u0431\\u0430\\u0442\\u044b\\u0432\\u0430\\u0435\\u0442 \\u0438 \\u0441\\u043e\\u0445\\u0440\\u0430\\u043d\\u044f\\u0435\\u0442 \\u043f\\u043e\\u0441\\u043b\\u0435\\u0434\\u043d\\u0438\\u0435 \\u0437\\u043d\\u0430\\u0447\\u0435\\u043d\\u0438\\u044f \\u043a\\u0443\\u0440\\u0441\\u043e\\u0432 \\u043a\\u0440\\u0438\\u043f\\u0442\\u043e\\u0432\\u0430\\u043b\\u044e\\u0442.\\n\\u0421\\u0442\\u0435\\u043a: Python, SQLAlchemy, Pandas, PostgreSQL, BinanceAPI\\n\\n2. \\u0420\\u0435\\u0430\\u043b\\u0438\\u0437\\u043e\\u0432\\u0430\\u043b \\u0442\\u0435\\u043b\\u0435\\u0433\\u0440\\u0430\\u043c-\\u0431\\u043e\\u0442\\u0430 \\u0434\\u043b\\u044f \\u043f\\u043e\\u0434\\u0442\\u0432\\u0435\\u0440\\u0436\\u0434\\u0435\\u043d\\u0438\\u044f \\u044d\\u043b\\u0435\\u043a\\u0442\\u0440\\u043e\\u043d\\u043d\\u043e\\u0439 \\u043f\\u043e\\u0447\\u0442\\u044b. \\u0411\\u043e\\u0442 \\u043e\\u0442\\u043f\\u0440\\u0430\\u0432\\u043b\\u044f\\u0435\\u0442 \\u043f\\u0440\\u043e\\u0432\\u0435\\u0440\\u043e\\u0447\\u043d\\u044b\\u0439 \\u043a\\u043e\\u0434 \\u043d\\u0430 \\u0443\\u043a\\u0430\\u0437\\u0430\\u043d\\u043d\\u0443\\u044e \\u043f\\u043e\\u0447\\u0442\\u0443 \\u0438 \\u043f\\u043e\\u0434\\u0442\\u0432\\u0435\\u0440\\u0436\\u0434\\u0430\\u0435\\u0442 \\u0435\\u0435 \\u0432\\u0430\\u043b\\u0438\\u0434\\u043d\\u043e\\u0441\\u0442\\u044c \\u043f\\u0440\\u0438 \\u0432\\u0432\\u043e\\u0434\\u0435 \\u043a\\u043e\\u0434\\u0430.\\n\\u0421\\u0442\\u0435\\u043a: Python, aiogram, jinja2, PostgreSQL\\n\\n3. \\u0420\\u0430\\u0437\\u0440\\u0430\\u0431\\u043e\\u0442\\u0430\\u043b \\u0442\\u0435\\u043b\\u0435\\u0433\\u0440\\u0430\\u043c-\\u0431\\u043e\\u0442\\u0430-\\u0430\\u0441\\u0441\\u0438\\u0441\\u0442\\u0435\\u043d\\u0442\\u0430 \\u0434\\u043b\\u044f \\u0432\\u0437\\u0430\\u0438\\u043c\\u043e\\u0434\\u0435\\u0439\\u0441\\u0442\\u0432\\u0438\\u044f \\u0441 \\u043f\\u043e\\u043b\\u044c\\u0437\\u043e\\u0432\\u0430\\u0442\\u0435\\u043b\\u044f\\u043c\\u0438 \\u043e\\u043d\\u043b\\u0430\\u0439\\u043d-\\u043c\\u0430\\u0433\\u0430\\u0437\\u0438\\u043d\\u0430. \\u0424\\u0443\\u043d\\u043a\\u0446\\u0438\\u043e\\u043d\\u0430\\u043b \\u0432\\u043a\\u043b\\u044e\\u0447\\u0430\\u0435\\u0442 \\u043f\\u0435\\u0440\\u0435\\u043d\\u0430\\u043f\\u0440\\u0430\\u0432\\u043b\\u0435\\u043d\\u0438\\u0435 \\u0441\\u043e\\u043e\\u0431\\u0449\\u0435\\u043d\\u0438\\u0439 \\u043e\\u0442 \\u043f\\u043e\\u043b\\u044c\\u0437\\u043e\\u0432\\u0430\\u0442\\u0435\\u043b\\u0435\\u0439 \\u0430\\u0434\\u043c\\u0438\\u043d\\u0443, \\u0431\\u043b\\u043e\\u043a\\u0438\\u0440\\u043e\\u0432\\u043a\\u0443 \\u043f\\u043e\\u043b\\u044c\\u0437\\u043e\\u0432\\u0430\\u0442\\u0435\\u043b\\u0435\\u0439, \\u043e\\u0431\\u0449\\u0435\\u043d\\u0438\\u0435 \\u0430\\u0434\\u043c\\u0438\\u043d\\u0430 \\u0441 \\u043f\\u043e\\u043b\\u044c\\u0437\\u043e\\u0432\\u0430\\u0442\\u0435\\u043b\\u044f\\u043c\\u0438 \\u0447\\u0435\\u0440\\u0435\\u0437 \\u0431\\u043e\\u0442\\u0430 \\u0438 \\u043f\\u0440\\u0435\\u0434\\u043e\\u0441\\u0442\\u0430\\u0432\\u043b\\u0435\\u043d\\u0438\\u0435 \\u0438\\u043d\\u0444\\u043e\\u0440\\u043c\\u0430\\u0446\\u0438\\u0438 \\u043e \\u043f\\u0440\\u043e\\u0434\\u0443\\u043a\\u0442\\u0430\\u0445 \\u043c\\u0430\\u0433\\u0430\\u0437\\u0438\\u043d\\u0430.\\n\\u0421\\u0442\\u0435\\u043a: Python, aiogram, PostgreSQL\\n\\n\\u0414\\u0440\\u0443\\u0433\\u0438\\u0435 \\u043f\\u0440\\u043e\\u0435\\u043a\\u0442\\u044b:\\n1. \\u0421 \\u043f\\u043e\\u043c\\u043e\\u0449\\u044c\\u044e Django REST Framework (DRF) \\u0441\\u043e\\u0437\\u0434\\u0430\\u043b \\u0431\\u044d\\u043a\\u0435\\u043d\\u0434 \\u043f\\u043b\\u0430\\u0442\\u0444\\u043e\\u0440\\u043c\\u044b \\u0434\\u043b\\u044f \\u043e\\u0431\\u043c\\u0435\\u043d\\u0430 \\u0440\\u0435\\u0446\\u0435\\u043f\\u0442\\u0430\\u043c\\u0438 \\u0441 \\u0444\\u0443\\u043d\\u043a\\u0446\\u0438\\u043e\\u043d\\u0430\\u043b\\u043e\\u043c \\u043f\\u0443\\u0431\\u043b\\u0438\\u043a\\u0430\\u0446\\u0438\\u0439, \\u0438\\u0437\\u0431\\u0440\\u0430\\u043d\\u043d\\u044b\\u0445 \\u0440\\u0435\\u0446\\u0435\\u043f\\u0442\\u043e\\u0432, \\u043f\\u043e\\u0434\\u043f\\u0438\\u0441\\u043e\\u043a. \\u0422\\u0430\\u043a \\u0436\\u0435 \\u0440\\u0435\\u0430\\u043b\\u0438\\u0437\\u043e\\u0432\\u0430\\u043d\\u0430 \\u0432\\u043e\\u0437\\u043c\\u043e\\u0436\\u043d\\u043e\\u0441\\u0442\\u044c \\u043f\\u043e\\u043b\\u0443\\u0447\\u0435\\u043d\\u0438\\u044f \\u0441\\u043f\\u0438\\u0441\\u043a\\u0430 \\u0438\\u043d\\u0433\\u0440\\u0435\\u0434\\u0438\\u0435\\u043d\\u0442\\u043e\\u0432 \\u0432 \\u0444\\u043e\\u0440\\u043c\\u0430\\u0442\\u0435 TXT.\\n\\u0421\\u0442\\u0435\\u043a: Python, Django REST framework\\n\\n2. \\u0412 \\u043a\\u043e\\u043c\\u0430\\u043d\\u0434\\u0435 \\u0440\\u0435\\u0430\\u043b\\u0438\\u0437\\u043e\\u0432\\u0430\\u043b\\u0438 REST API (DRF) \\u0434\\u043b\\u044f \\u0441\\u0435\\u0440\\u0432\\u0438\\u0441\\u0430 \\u0443\\u0447\\u0435\\u0442\\u0430 \\u0440\\u0435\\u0439\\u0442\\u0438\\u043d\\u0433\\u0430 \\u043e\\u0431\\u044a\\u0435\\u043a\\u0442\\u043e\\u0432. \\u041e\\u0442\\u0432\\u0435\\u0447\\u0430\\u043b \\u0437\\u0430 \\u0440\\u0430\\u0437\\u0440\\u0430\\u0431\\u043e\\u0442\\u043a\\u0443 \\u043a\\u0430\\u0441\\u0442\\u043e\\u043c\\u043d\\u043e\\u0439 \\u0430\\u0432\\u0442\\u043e\\u0440\\u0438\\u0437\\u0430\\u0446\\u0438\\u0438 \\u0438 \\u0430\\u0443\\u0442\\u0435\\u043d\\u0442\\u0438\\u0444\\u0438\\u043a\\u0430\\u0446\\u0438\\u0438 \\u043f\\u043e\\u043b\\u044c\\u0437\\u043e\\u0432\\u0430\\u0442\\u0435\\u043b\\u0435\\u0439.\\n\\u0418\\u0441\\u043f\\u043e\\u043b\\u043d\\u044f\\u043b \\u0440\\u043e\\u043b\\u044c \\u0442\\u0438\\u043c\\u043b\\u0438\\u0434\\u0430: \\u043a\\u043e\\u043e\\u0440\\u0434\\u0438\\u043d\\u0438\\u0440\\u043e\\u0432\\u0430\\u043b \\u0434\\u0435\\u0439\\u0441\\u0442\\u0432\\u0438\\u044f \\u043a\\u043e\\u043c\\u0430\\u043d\\u0434\\u044b, \\u0434\\u0435\\u043a\\u043e\\u043c\\u043f\\u043e\\u0437\\u0438\\u0440\\u043e\\u0432\\u0430\\u043b \\u0437\\u0430\\u0434\\u0430\\u0447\\u0438.\\n\\u0421\\u0442\\u0435\\u043a: Python, Django REST framework \\n\\n3. \\u041d\\u0430 \\u0444\\u0440\\u0435\\u0439\\u043c\\u0432\\u043e\\u0440\\u043a\\u0435 Django \\u0440\\u0430\\u0437\\u0440\\u0430\\u0431\\u043e\\u0442\\u0430\\u043b \\u0431\\u043b\\u043e\\u0433 \\u0434\\u043b\\u044f \\u0440\\u0430\\u0437\\u043c\\u0435\\u0449\\u0435\\u043d\\u0438\\u044f \\u043f\\u043e\\u0441\\u0442\\u043e\\u0432 \\u0441 \\u0438\\u0437\\u043e\\u0431\\u0440\\u0430\\u0436\\u0435\\u043d\\u0438\\u044f\\u043c\\u0438 \\u0438 \\u0442\\u0435\\u043a\\u0441\\u0442\\u043e\\u043c. \\u0420\\u0435\\u0430\\u043b\\u0438\\u0437\\u043e\\u0432\\u0430\\u043b \\u0441\\u0438\\u0441\\u0442\\u0435\\u043c\\u0443 \\u043a\\u043e\\u043c\\u043c\\u0435\\u043d\\u0442\\u0430\\u0440\\u0438\\u0435\\u0432, \\u043e\\u0431\\u0435\\u0441\\u043f\\u0435\\u0447\\u0438\\u0432\\u0430\\u044e\\u0449\\u0443\\u044e \\u0432\\u0437\\u0430\\u0438\\u043c\\u043e\\u0434\\u0435\\u0439\\u0441\\u0442\\u0432\\u0438\\u0435 \\u043f\\u043e\\u043b\\u044c\\u0437\\u043e\\u0432\\u0430\\u0442\\u0435\\u043b\\u0435\\u0439. \\u0412\\u043d\\u0435\\u0434\\u0440\\u0438\\u043b \\u0444\\u0443\\u043d\\u043a\\u0446\\u0438\\u043e\\u043d\\u0430\\u043b \\u0440\\u0435\\u0433\\u0438\\u0441\\u0442\\u0440\\u0430\\u0446\\u0438\\u0438 \\u0438 \\u0430\\u0432\\u0442\\u043e\\u0440\\u0438\\u0437\\u0430\\u0446\\u0438\\u0438, \\u0430 \\u0442\\u0430\\u043a\\u0436\\u0435 \\u0432\\u043e\\u0437\\u043c\\u043e\\u0436\\u043d\\u043e\\u0441\\u0442\\u044c \\u0432\\u043e\\u0441\\u0441\\u0442\\u0430\\u043d\\u043e\\u0432\\u043b\\u0435\\u043d\\u0438\\u044f \\u043f\\u0430\\u0440\\u043e\\u043b\\u044f \\u0447\\u0435\\u0440\\u0435\\u0437 \\u044d\\u043b\\u0435\\u043a\\u0442\\u0440\\u043e\\u043d\\u043d\\u0443\\u044e \\u043f\\u043e\\u0447\\u0442\\u0443. \\n\\u0421\\u0442\\u0435\\u043a: Python, Django\\u0421\\u0435\\u043d\\u0442\\u044f\\u0431\\u0440\\u044c 2011 \\u2014 \\u0414\\u0435\\u043a\\u0430\\u0431\\u0440\\u044c 202211 \\u043b\\u0435\\u0442 4 \\u043c\\u0435\\u0441\\u044f\\u0446\\u0430Sakhalin Energy Investment Company Ltd.\\u0421\\u0430\\u0445\\u0430\\u043b\\u0438\\u043d\\u0441\\u043a\\u0430\\u044f \\u043e\\u0431\\u043b\\u0430\\u0441\\u0442\\u044c, www.sakhalinenergy.ru\\u041d\\u0435\\u0444\\u0442\\u044c \\u0438 \\u0433\\u0430\\u0437... \\u041f\\u043e\\u043a\\u0430\\u0437\\u0430\\u0442\\u044c \\u0435\\u0449\\u0435\\u0421\\u043f\\u0435\\u0446\\u0438\\u0430\\u043b\\u0438\\u0441\\u0442 \\u043f\\u043e \\u043f\\u043e\\u0434\\u0433\\u043e\\u0442\\u043e\\u0432\\u043a\\u0435 \\u0440\\u0430\\u0431\\u043e\\u0442 \\u041a\\u0418\\u041f\\u0438\\u0410\\u041f\\u043e\\u0434\\u0433\\u043e\\u0442\\u043e\\u0432\\u043a\\u0430 \\u0440\\u0430\\u0431\\u043e\\u0442 \\u043f\\u043e \\u043e\\u0431\\u0441\\u043b\\u0443\\u0436\\u0438\\u0432\\u0430\\u043d\\u0438\\u044e \\u0438 \\u0440\\u0435\\u043c\\u043e\\u043d\\u0442\\u0443 \\u043f\\u043e\\u0442\\u043e\\u043a\\u043e\\u0432\\u044b\\u0445 \\u0430\\u043d\\u0430\\u043b\\u0438\\u0437\\u0430\\u0442\\u043e\\u0440\\u043e\\u0432, \\u0443\\u0437\\u043b\\u043e\\u0432 \\u0443\\u0447\\u0451\\u0442\\u0430 \\u043d\\u0435\\u0444\\u0442\\u0438 \\u0438 \\u0433\\u0430\\u0437\\u0430, \\u0434\\u0440\\u0443\\u0433\\u043e\\u0433\\u043e \\u043e\\u0431\\u043e\\u0440\\u0443\\u0434\\u043e\\u0432\\u0430\\u043d\\u0438\\u044f \\u041a\\u0418\\u041f\\u0438\\u0410. \\u041e\\u0446\\u0435\\u043d\\u043a\\u0430 \\u0438 \\u043f\\u043b\\u0430\\u043d\\u0438\\u0440\\u043e\\u0432\\u0430\\u043d\\u0438\\u0435 \\u043e\\u0431\\u044a\\u0451\\u043c\\u0430 \\u043f\\u0440\\u0435\\u0434\\u0441\\u0442\\u043e\\u044f\\u0449\\u0438\\u0445 \\u0440\\u0430\\u0431\\u043e\\u0442, \\u043f\\u043e\\u0438\\u0441\\u043a \\u0434\\u043e\\u043a\\u0443\\u043c\\u0435\\u043d\\u0442\\u0430\\u0446\\u0438\\u0438 \\u0438 \\u043c\\u0430\\u0442\\u0435\\u0440\\u0438\\u0430\\u043b\\u043e\\u0432 \\u043d\\u0435\\u043e\\u0431\\u0445\\u043e\\u0434\\u0438\\u043c\\u044b\\u0445 \\u0434\\u043b\\u044f \\u0435\\u0451 \\u0432\\u044b\\u043f\\u043e\\u043b\\u043d\\u0435\\u043d\\u0438\\u044f. \\u041f\\u043e\\u0434\\u0433\\u043e\\u0442\\u043e\\u0432\\u043a\\u0430 \\u043d\\u0430\\u0440\\u044f\\u0434\\u043e\\u0432-\\u0434\\u043e\\u043f\\u0443\\u0441\\u043a\\u043e\\u0432, \\u0432\\u0435\\u0434\\u0435\\u043d\\u0438\\u0435 \\u0434\\u043e\\u043a\\u0443\\u043c\\u0435\\u043d\\u0442\\u0430\\u0446\\u0438\\u0438 \\u0432 \\u0441\\u0438\\u0441\\u0442\\u0435\\u043c\\u0435 SAP. \\u0423\\u0447\\u0430\\u0441\\u0442\\u0438\\u0435 \\u0432 \\u043f\\u043b\\u0430\\u043d\\u043e\\u0432\\u044b\\u0445 \\u043e\\u0441\\u0442\\u0430\\u043d\\u043e\\u0432\\u0430\\u0445. \\u0420\\u0443\\u043a\\u043e\\u0432\\u043e\\u0434\\u0441\\u0442\\u0432\\u043e \\u043d\\u0435\\u0431\\u043e\\u043b\\u044c\\u0448\\u043e\\u0439 \\u043a\\u043e\\u043c\\u0430\\u043d\\u0434\\u043e\\u0439.\",\n          \"\\u041e\\u043f\\u044b\\u0442 \\u0440\\u0430\\u0431\\u043e\\u0442\\u044b 2 \\u0433\\u043e\\u0434\\u0430 4 \\u043c\\u0435\\u0441\\u044f\\u0446\\u0430 \\u041d\\u043e\\u044f\\u0431\\u0440\\u044c 2021 \\u2014 \\u0424\\u0435\\u0432\\u0440\\u0430\\u043b\\u044c 20242 \\u0433\\u043e\\u0434\\u0430 4 \\u043c\\u0435\\u0441\\u044f\\u0446\\u0430\\u0412\\u0441\\u043c-\\u0421\\u0435\\u0440\\u0432\\u0438\\u0441\\u041c\\u043e\\u0441\\u043a\\u0432\\u0430\\u041f\\u0440\\u043e\\u0433\\u0440\\u0430\\u043c\\u043c\\u0438\\u0441\\u0442 PythonBackend \\n\\u0421\\u0442\\u0435\\u043a \\u0442\\u0435\\u0445\\u043d\\u043e\\u043b\\u043e\\u0433\\u0438\\u0439: Python, Django, Docker, PostgreSQL, Celery. \\n\\u0424\\u0443\\u043d\\u043a\\u0446\\u0438\\u043e\\u043d\\u0430\\u043b:\\n- \\u0440\\u0430\\u0437\\u0440\\u0430\\u0431\\u043e\\u0442\\u043a\\u0430 backend \\u0447\\u0430\\u0441\\u0442\\u0438 \\u0441\\u0430\\u0439\\u0442\\u0430;\\n- \\u0440\\u0430\\u0437\\u0440\\u0430\\u0431\\u043e\\u0442\\u043a\\u0430 \\u0441\\u0430\\u0439\\u0442\\u0430 \\u0441 \\u043f\\u043e\\u0434\\u043a\\u043b\\u044e\\u0447\\u0451\\u043d\\u043d\\u044b\\u043c \\u0442\\u0435\\u043b\\u0435\\u0433\\u0440\\u0430\\u043c\\u043c \\u0431\\u043e\\u0442\\u043e\\u043c (aiogram).\\n- \\u0438\\u0441\\u043f\\u0440\\u0430\\u0432\\u043b\\u0435\\u043d\\u0438\\u0435 \\u0440\\u0430\\u0437\\u043b\\u0438\\u0447\\u043d\\u044b\\u0445 \\u0431\\u0430\\u0433\\u043e\\u0432 \\u0432 \\u043f\\u0440\\u043e\\u0435\\u043a\\u0442\\u0435.\"\n        ],\n        \"semantic_type\": \"\",\n        \"description\": \"\"\n      }\n    },\n    {\n      \"column\": \"tags\",\n      \"properties\": {\n        \"dtype\": \"object\",\n        \"semantic_type\": \"\",\n        \"description\": \"\"\n      }\n    }\n  ]\n}"
            }
          },
          "metadata": {},
          "execution_count": 102
        }
      ]
    }
  ]
}